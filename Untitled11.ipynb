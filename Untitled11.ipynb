{
  "nbformat": 4,
  "nbformat_minor": 0,
  "metadata": {
    "colab": {
      "provenance": [],
      "authorship_tag": "ABX9TyPAvVi5NuAiaQYFcaJtBFjQ",
      "include_colab_link": true
    },
    "kernelspec": {
      "name": "python3",
      "display_name": "Python 3"
    },
    "language_info": {
      "name": "python"
    }
  },
  "cells": [
    {
      "cell_type": "markdown",
      "metadata": {
        "id": "view-in-github",
        "colab_type": "text"
      },
      "source": [
        "<a href=\"https://colab.research.google.com/github/jayakrishnan666/OPENCV/blob/main/Untitled11.ipynb\" target=\"_parent\"><img src=\"https://colab.research.google.com/assets/colab-badge.svg\" alt=\"Open In Colab\"/></a>"
      ]
    },
    {
      "cell_type": "code",
      "execution_count": null,
      "metadata": {
        "colab": {
          "base_uri": "https://localhost:8080/"
        },
        "id": "Rh3XozDKJICR",
        "outputId": "ffd0f51e-0cb5-4d4e-d7fa-c76ae7de2550"
      },
      "outputs": [
        {
          "output_type": "stream",
          "name": "stdout",
          "text": [
            "Requirement already satisfied: opencv-python-headless in /usr/local/lib/python3.12/dist-packages (4.12.0.88)\n",
            "Requirement already satisfied: numpy<2.3.0,>=2 in /usr/local/lib/python3.12/dist-packages (from opencv-python-headless) (2.0.2)\n"
          ]
        }
      ],
      "source": [
        "!pip install opencv-python-headless\n",
        "\n",
        "import cv2\n",
        "import numpy as np\n",
        "from google.colab.patches import cv2_imshow\n",
        "from IPython.display import Javascript\n",
        "from google.colab.output import eval_js\n",
        "import base64\n",
        "import PIL.Image\n",
        "import io\n"
      ]
    },
    {
      "cell_type": "code",
      "source": [
        "def take_photo(quality=0.8):\n",
        "    js = Javascript('''\n",
        "      async function takePhoto(quality) {\n",
        "        const div = document.createElement('div');\n",
        "        const capture = document.createElement('button');\n",
        "        capture.textContent = '📸 Capture';\n",
        "        div.appendChild(capture);\n",
        "\n",
        "        const video = document.createElement('video');\n",
        "        video.style.display = 'block';\n",
        "        const stream = await navigator.mediaDevices.getUserMedia({video: true});\n",
        "        document.body.appendChild(div);\n",
        "        div.appendChild(video);\n",
        "        video.srcObject = stream;\n",
        "        await video.play();\n",
        "\n",
        "        // Adjust Colab iframe\n",
        "        google.colab.output.setIframeHeight(document.documentElement.scrollHeight, true);\n",
        "\n",
        "        // Wait for Capture click\n",
        "        await new Promise((resolve) => capture.onclick = resolve);\n",
        "\n",
        "        const canvas = document.createElement('canvas');\n",
        "        canvas.width = video.videoWidth;\n",
        "        canvas.height = video.videoHeight;\n",
        "        canvas.getContext('2d').drawImage(video, 0, 0);\n",
        "        stream.getVideoTracks()[0].stop();\n",
        "        div.remove();\n",
        "\n",
        "        return canvas.toDataURL('image/jpeg', quality);\n",
        "      }\n",
        "      takePhoto(%f);\n",
        "    ''' % quality)\n",
        "\n",
        "    # ✅ Must display the JS to execute it\n",
        "    display(js)\n",
        "\n",
        "    # ✅ Now we get the result back properly\n",
        "    data = eval_js(\"takePhoto(%f)\" % quality)\n",
        "    binary = base64.b64decode(data.split(',')[1])\n",
        "    img = PIL.Image.open(io.BytesIO(binary))\n",
        "    return cv2.cvtColor(np.array(img), cv2.COLOR_RGB2BGR)\n"
      ],
      "metadata": {
        "id": "4GilqwCmJds_"
      },
      "execution_count": null,
      "outputs": []
    },
    {
      "cell_type": "code",
      "source": [
        "def detect_fire_smoke(frame, fire_area_thresh=1000, smoke_area_thresh=2000):\n",
        "    import cv2, numpy as np\n",
        "\n",
        "    hsv = cv2.cvtColor(frame, cv2.COLOR_BGR2HSV)\n",
        "\n",
        "    # 🔥 Fire mask\n",
        "    lower_fire = np.array([18, 50, 50])\n",
        "    upper_fire = np.array([35, 255, 255])\n",
        "    fire_mask = cv2.inRange(hsv, lower_fire, upper_fire)\n",
        "\n",
        "    # 💨 Smoke mask\n",
        "    lower_smoke = np.array([0, 0, 80])\n",
        "    upper_smoke = np.array([180, 80, 220])\n",
        "    smoke_mask = cv2.inRange(hsv, lower_smoke, upper_smoke)\n",
        "\n",
        "    has_fire = False\n",
        "    has_smoke = False\n",
        "\n",
        "    # Draw fire boxes\n",
        "    contours, _ = cv2.findContours(fire_mask, cv2.RETR_TREE, cv2.CHAIN_APPROX_SIMPLE)\n",
        "    for cnt in contours:\n",
        "        if cv2.contourArea(cnt) > fire_area_thresh:\n",
        "            x,y,w,h = cv2.boundingRect(cnt)\n",
        "            cv2.rectangle(frame, (x,y), (x+w,y+h), (0,0,255), 2)\n",
        "            cv2.putText(frame, \" FIRE\", (x,y-10), cv2.FONT_HERSHEY_SIMPLEX, 0.7, (0,0,255), 2)\n",
        "            has_fire = True\n",
        "\n",
        "    # Draw smoke boxes\n",
        "    contours, _ = cv2.findContours(smoke_mask, cv2.RETR_TREE, cv2.CHAIN_APPROX_SIMPLE)\n",
        "    for cnt in contours:\n",
        "        if cv2.contourArea(cnt) > smoke_area_thresh:\n",
        "            x,y,w,h = cv2.boundingRect(cnt)\n",
        "            cv2.rectangle(frame, (x,y), (x+w,y+h), (200,200,200), 2)\n",
        "            cv2.putText(frame, \" SMOKE\", (x,y-10), cv2.FONT_HERSHEY_SIMPLEX, 0.7, (200,200,200), 2)\n",
        "            has_smoke = True\n",
        "\n",
        "    return frame, has_fire, has_smoke\n"
      ],
      "metadata": {
        "id": "0biRfEnDKW3F"
      },
      "execution_count": null,
      "outputs": []
    },
    {
      "cell_type": "code",
      "source": [
        "from google.colab.output import eval_js\n",
        "\n",
        "def show_toast(message, bg=\"#ef4444\"):  # default red\n",
        "    js = f\"\"\"\n",
        "    (function(){{\n",
        "      const toast = document.createElement('div');\n",
        "      toast.textContent = `{message}`;\n",
        "      toast.style.position = 'fixed';\n",
        "      toast.style.top = '16px';\n",
        "      toast.style.right = '16px';\n",
        "      toast.style.zIndex = '999999';\n",
        "      toast.style.padding = '12px 16px';\n",
        "      toast.style.borderRadius = '12px';\n",
        "      toast.style.boxShadow = '0 8px 24px rgba(0,0,0,0.15)';\n",
        "      toast.style.fontFamily = 'system-ui, -apple-system, Segoe UI, Roboto, Arial, sans-serif';\n",
        "      toast.style.fontSize = '16px';\n",
        "      toast.style.color = '#ffffff';\n",
        "      toast.style.background = '{bg}';\n",
        "      toast.style.opacity = '0';\n",
        "      toast.style.transition = 'opacity .15s ease, transform .15s ease';\n",
        "      toast.style.transform = 'translateY(-8px)';\n",
        "\n",
        "      document.body.appendChild(toast);\n",
        "      requestAnimationFrame(() => {{\n",
        "        toast.style.opacity = '1';\n",
        "        toast.style.transform = 'translateY(0)';\n",
        "      }});\n",
        "      setTimeout(() => {{\n",
        "        toast.style.opacity = '0';\n",
        "        toast.style.transform = 'translateY(-8px)';\n",
        "        setTimeout(() => toast.remove(), 200);\n",
        "      }}, 2500);\n",
        "    }})();\n",
        "    \"\"\"\n",
        "    eval_js(js)\n"
      ],
      "metadata": {
        "id": "G4LqFyhQLxn6"
      },
      "execution_count": null,
      "outputs": []
    },
    {
      "cell_type": "code",
      "source": [
        "print(\"📷 Allow webcam access and click '📸 Capture' to take a frame.\")\n",
        "\n",
        "frame = take_photo()\n",
        "result, has_fire, has_smoke = detect_fire_smoke(frame)\n",
        "\n",
        "# Show processed frame\n",
        "cv2_imshow(result)\n",
        "\n",
        "# Pop a box (toast) depending on what we saw\n",
        "if has_fire and has_smoke:\n",
        "    show_toast(\"🔥 FIRE + 💨 SMOKE detected!\", bg=\"#7c3aed\")   # purple\n",
        "elif has_fire:\n",
        "    show_toast(\"🔥 FIRE detected!\", bg=\"#ef4444\")             # red\n",
        "elif has_smoke:\n",
        "    show_toast(\"💨 SMOKE detected!\", bg=\"#6b7280\")            # gray\n",
        "else:\n",
        "    show_toast(\"✅ No fire/smoke detected\", bg=\"#10b981\")      # green\n"
      ],
      "metadata": {
        "colab": {
          "base_uri": "https://localhost:8080/",
          "height": 1000
        },
        "id": "0Dss2z2UKZRb",
        "outputId": "0027cba3-6fc6-4f4f-9e9b-8013b68fd6c9"
      },
      "execution_count": null,
      "outputs": [
        {
          "output_type": "stream",
          "name": "stdout",
          "text": [
            "📷 Allow webcam access and click '📸 Capture' to take a frame.\n"
          ]
        },
        {
          "output_type": "display_data",
          "data": {
            "text/plain": [
              "<IPython.core.display.Javascript object>"
            ],
            "application/javascript": [
              "\n",
              "      async function takePhoto(quality) {\n",
              "        const div = document.createElement('div');\n",
              "        const capture = document.createElement('button');\n",
              "        capture.textContent = '📸 Capture';\n",
              "        div.appendChild(capture);\n",
              "\n",
              "        const video = document.createElement('video');\n",
              "        video.style.display = 'block';\n",
              "        const stream = await navigator.mediaDevices.getUserMedia({video: true});\n",
              "        document.body.appendChild(div);\n",
              "        div.appendChild(video);\n",
              "        video.srcObject = stream;\n",
              "        await video.play();\n",
              "\n",
              "        // Adjust Colab iframe\n",
              "        google.colab.output.setIframeHeight(document.documentElement.scrollHeight, true);\n",
              "\n",
              "        // Wait for Capture click\n",
              "        await new Promise((resolve) => capture.onclick = resolve);\n",
              "\n",
              "        const canvas = document.createElement('canvas');\n",
              "        canvas.width = video.videoWidth;\n",
              "        canvas.height = video.videoHeight;\n",
              "        canvas.getContext('2d').drawImage(video, 0, 0);\n",
              "        stream.getVideoTracks()[0].stop();\n",
              "        div.remove();\n",
              "\n",
              "        return canvas.toDataURL('image/jpeg', quality);\n",
              "      }\n",
              "      takePhoto(0.800000);\n",
              "    "
            ]
          },
          "metadata": {}
        }
      ]
    }
  ]
}